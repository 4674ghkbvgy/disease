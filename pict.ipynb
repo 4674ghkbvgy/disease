{
 "cells": [
  {
   "cell_type": "code",
   "execution_count": 3,
   "metadata": {},
   "outputs": [
    {
     "name": "stdout",
     "output_type": "stream",
     "text": [
      "['https://dermnetnz.org/assets/Uploads/enteroviral-hand-blisters-015__ProtectWyJQcm90ZWN0Il0_FocusFillWzI5NCwyMjIsIngiLDFd.JPG', 'https://dermnetnz.org/assets/Uploads/enteroviral-hand-blisters-023__ProtectWyJQcm90ZWN0Il0_FocusFillWzI5NCwyMjIsIngiLDE5XQ.JPG', 'https://dermnetnz.org/assets/Uploads/enteroviral-hand-blisters-020__ProtectWyJQcm90ZWN0Il0_FocusFillWzI5NCwyMjIsIngiLDE5XQ.JPG', 'https://dermnetnz.org/assets/Uploads/enteroviral-hand-blisters-024__ProtectWyJQcm90ZWN0Il0_FocusFillWzI5NCwyMjIsInkiLDEwOV0.JPG', 'https://dermnetnz.org/assets/Uploads/enteroviral-hand-blisters-016__ProtectWyJQcm90ZWN0Il0_FocusFillWzI5NCwyMjIsIngiLDFd.JPG', 'https://dermnetnz.org/assets/Uploads/enteroviral-hand-blisters-025__ProtectWyJQcm90ZWN0Il0_FocusFillWzI5NCwyMjIsIngiLDE5XQ.JPG', 'https://dermnetnz.org/assets/Uploads/enteroviral-hand-blisters-022__ProtectWyJQcm90ZWN0Il0_FocusFillWzI5NCwyMjIsIngiLDE5XQ.JPG', 'https://dermnetnz.org/assets/Uploads/enteroviral-hand-blisters-017__ProtectWyJQcm90ZWN0Il0_FocusFillWzI5NCwyMjIsIngiLDE5XQ.JPG', 'https://dermnetnz.org/assets/Uploads/enteroviral-hand-blisters-018__ProtectWyJQcm90ZWN0Il0_FocusFillWzI5NCwyMjIsIngiLDE5XQ.JPG', 'https://dermnetnz.org/assets/Uploads/enteroviral-hand-blisters-019__ProtectWyJQcm90ZWN0Il0_FocusFillWzI5NCwyMjIsIngiLDE5XQ.JPG', 'https://dermnetnz.org/assets/Uploads/enteroviral-hand-blisters-014__ProtectWyJQcm90ZWN0Il0_FocusFillWzI5NCwyMjIsIngiLDFd.JPG', 'https://dermnetnz.org/assets/Uploads/enteroviral-hand-blisters-021__ProtectWyJQcm90ZWN0Il0_FocusFillWzI5NCwyMjIsInkiLDg1XQ.JPG', 'https://dermnetnz.org/assets/Uploads/enteroviral-hand-blisters-015-v2__ProtectWyJQcm90ZWN0Il0_FocusFillWzI5NCwyMjIsIngiLDFd.JPG', 'https://dermnetnz.org/assets/Uploads/enteroviral-hand-070__ProtectWyJQcm90ZWN0Il0_FocusFillWzI5NCwyMjIsInkiLDFd.JPG', 'https://dermnetnz.org/assets/Uploads/enteroviral-hand-067__ProtectWyJQcm90ZWN0Il0_FocusFillWzI5NCwyMjIsIngiLDIwXQ.JPG', 'https://dermnetnz.org/assets/Uploads/enteroviral-hand-068__ProtectWyJQcm90ZWN0Il0_FocusFillWzI5NCwyMjIsIngiLDIwXQ.JPG', 'https://dermnetnz.org/assets/Uploads/enteroviral-hand-069__ProtectWyJQcm90ZWN0Il0_FocusFillWzI5NCwyMjIsIngiLDE5XQ.JPG', 'https://dermnetnz.org/assets/Uploads/enteroviral-hand-059__ProtectWyJQcm90ZWN0Il0_FocusFillWzI5NCwyMjIsInkiLDEwOV0.JPG', 'https://dermnetnz.org/assets/Uploads/enteroviral-hand-058__ProtectWyJQcm90ZWN0Il0_FocusFillWzI5NCwyMjIsIngiLDE5XQ.JPG', 'https://dermnetnz.org/assets/Uploads/enteroviral-hand-056__ProtectWyJQcm90ZWN0Il0_FocusFillWzI5NCwyMjIsIngiLDIwXQ.JPG', 'https://dermnetnz.org/assets/Uploads/enteroviral-hand-052__ProtectWyJQcm90ZWN0Il0_FocusFillWzI5NCwyMjIsIngiLDFd.JPG', 'https://dermnetnz.org/assets/Uploads/enteroviral-hand-066__ProtectWyJQcm90ZWN0Il0_FocusFillWzI5NCwyMjIsInkiLDFd.JPG', 'https://dermnetnz.org/assets/Uploads/enteroviral-hand-053__ProtectWyJQcm90ZWN0Il0_FocusFillWzI5NCwyMjIsInkiLDExMF0.JPG', 'https://dermnetnz.org/assets/Uploads/enteroviral-hand-063__ProtectWyJQcm90ZWN0Il0_FocusFillWzI5NCwyMjIsIngiLDE5XQ.JPG', 'https://dermnetnz.org/assets/Uploads/enteroviral-hand-060__ProtectWyJQcm90ZWN0Il0_FocusFillWzI5NCwyMjIsInkiLDEwOV0.JPG', 'https://dermnetnz.org/assets/Uploads/enteroviral-hand-062__ProtectWyJQcm90ZWN0Il0_FocusFillWzI5NCwyMjIsIngiLDE4XQ.JPG', 'https://dermnetnz.org/assets/Uploads/enteroviral-hand-057__ProtectWyJQcm90ZWN0Il0_FocusFillWzI5NCwyMjIsIngiLDFd.JPG', 'https://dermnetnz.org/assets/Uploads/enteroviral-hand-054__ProtectWyJQcm90ZWN0Il0_FocusFillWzI5NCwyMjIsInkiLDg1XQ.JPG', 'https://dermnetnz.org/assets/Uploads/enteroviral-hand-065__ProtectWyJQcm90ZWN0Il0_FocusFillWzI5NCwyMjIsIngiLDFd.JPG', 'https://dermnetnz.org/assets/Uploads/enteroviral-hand-051__ProtectWyJQcm90ZWN0Il0_FocusFillWzI5NCwyMjIsIngiLDFd.JPG', 'https://dermnetnz.org/assets/Uploads/enteroviral-hand-064__ProtectWyJQcm90ZWN0Il0_FocusFillWzI5NCwyMjIsIngiLDE5XQ.JPG', 'https://dermnetnz.org/assets/Uploads/enteroviral-hand-061__ProtectWyJQcm90ZWN0Il0_FocusFillWzI5NCwyMjIsInkiLDEwOV0.JPG', 'https://dermnetnz.org/assets/Uploads/enteroviral-hand-055__ProtectWyJQcm90ZWN0Il0_FocusFillWzI5NCwyMjIsInkiLDEwOV0.JPG', 'https://dermnetnz.org/assets/Uploads/enteroviral-hand-072__ProtectWyJQcm90ZWN0Il0_FocusFillWzI5NCwyMjIsIngiLDIwXQ.JPG', 'https://dermnetnz.org/assets/Uploads/enteroviral-hand-071__ProtectWyJQcm90ZWN0Il0_FocusFillWzI5NCwyMjIsIngiLDIwXQ.JPG', 'https://dermnetnz.org/assets/Uploads/enteroviral-hand-073__ProtectWyJQcm90ZWN0Il0_FocusFillWzI5NCwyMjIsInkiLDYzXQ.JPG', 'https://dermnetnz.org/assets/Uploads/enteroviral-hand-074__ProtectWyJQcm90ZWN0Il0_FocusFillWzI5NCwyMjIsIngiLDE5XQ.JPG']\n"
     ]
    }
   ],
   "source": [
    "from bs4 import BeautifulSoup\n",
    "import requests\n",
    "# 打开hand.html文件并解析为一个BeautifulSoup对象\n",
    "with open(\"hand.html\", \"r\", encoding=\"utf-8\") as f:\n",
    "    soup = BeautifulSoup(f, \"html.parser\")\n",
    "\n",
    "# 定位到所有的&lt;img&gt;标签，并获取它们的src属性\n",
    "img_tags = soup.find_all(\"img\")\n",
    "src_list = [tag[\"src\"] for tag in img_tags]\n",
    "\n",
    "# 在每个src属性前面拼接上\"https://dermnetnz.org\"\n",
    "full_src_list = [\"https://dermnetnz.org\" + src for src in src_list]\n",
    "\n",
    "# 打印出结果\n",
    "print(full_src_list)"
   ]
  },
  {
   "cell_type": "code",
   "execution_count": 9,
   "metadata": {},
   "outputs": [
    {
     "name": "stdout",
     "output_type": "stream",
     "text": [
      "Downloaded enteroviral-hand-blisters-015__ProtectWyJQcm90ZWN0Il0_FocusFillWzI5NCwyMjIsIngiLDFd.JPG successfully.\n",
      "Downloaded enteroviral-hand-blisters-023__ProtectWyJQcm90ZWN0Il0_FocusFillWzI5NCwyMjIsIngiLDE5XQ.JPG successfully.\n",
      "Downloaded enteroviral-hand-blisters-020__ProtectWyJQcm90ZWN0Il0_FocusFillWzI5NCwyMjIsIngiLDE5XQ.JPG successfully.\n",
      "Downloaded enteroviral-hand-blisters-024__ProtectWyJQcm90ZWN0Il0_FocusFillWzI5NCwyMjIsInkiLDEwOV0.JPG successfully.\n",
      "Downloaded enteroviral-hand-blisters-016__ProtectWyJQcm90ZWN0Il0_FocusFillWzI5NCwyMjIsIngiLDFd.JPG successfully.\n",
      "Downloaded enteroviral-hand-blisters-025__ProtectWyJQcm90ZWN0Il0_FocusFillWzI5NCwyMjIsIngiLDE5XQ.JPG successfully.\n",
      "Downloaded enteroviral-hand-blisters-022__ProtectWyJQcm90ZWN0Il0_FocusFillWzI5NCwyMjIsIngiLDE5XQ.JPG successfully.\n",
      "Downloaded enteroviral-hand-blisters-017__ProtectWyJQcm90ZWN0Il0_FocusFillWzI5NCwyMjIsIngiLDE5XQ.JPG successfully.\n",
      "Downloaded enteroviral-hand-blisters-018__ProtectWyJQcm90ZWN0Il0_FocusFillWzI5NCwyMjIsIngiLDE5XQ.JPG successfully.\n",
      "Downloaded enteroviral-hand-blisters-019__ProtectWyJQcm90ZWN0Il0_FocusFillWzI5NCwyMjIsIngiLDE5XQ.JPG successfully.\n",
      "Downloaded enteroviral-hand-blisters-014__ProtectWyJQcm90ZWN0Il0_FocusFillWzI5NCwyMjIsIngiLDFd.JPG successfully.\n",
      "Downloaded enteroviral-hand-blisters-021__ProtectWyJQcm90ZWN0Il0_FocusFillWzI5NCwyMjIsInkiLDg1XQ.JPG successfully.\n",
      "Downloaded enteroviral-hand-blisters-015-v2__ProtectWyJQcm90ZWN0Il0_FocusFillWzI5NCwyMjIsIngiLDFd.JPG successfully.\n",
      "Downloaded enteroviral-hand-070__ProtectWyJQcm90ZWN0Il0_FocusFillWzI5NCwyMjIsInkiLDFd.JPG successfully.\n",
      "Downloaded enteroviral-hand-067__ProtectWyJQcm90ZWN0Il0_FocusFillWzI5NCwyMjIsIngiLDIwXQ.JPG successfully.\n",
      "Downloaded enteroviral-hand-068__ProtectWyJQcm90ZWN0Il0_FocusFillWzI5NCwyMjIsIngiLDIwXQ.JPG successfully.\n",
      "Downloaded enteroviral-hand-069__ProtectWyJQcm90ZWN0Il0_FocusFillWzI5NCwyMjIsIngiLDE5XQ.JPG successfully.\n",
      "Downloaded enteroviral-hand-059__ProtectWyJQcm90ZWN0Il0_FocusFillWzI5NCwyMjIsInkiLDEwOV0.JPG successfully.\n",
      "Downloaded enteroviral-hand-058__ProtectWyJQcm90ZWN0Il0_FocusFillWzI5NCwyMjIsIngiLDE5XQ.JPG successfully.\n",
      "Downloaded enteroviral-hand-056__ProtectWyJQcm90ZWN0Il0_FocusFillWzI5NCwyMjIsIngiLDIwXQ.JPG successfully.\n",
      "Downloaded enteroviral-hand-052__ProtectWyJQcm90ZWN0Il0_FocusFillWzI5NCwyMjIsIngiLDFd.JPG successfully.\n",
      "Downloaded enteroviral-hand-066__ProtectWyJQcm90ZWN0Il0_FocusFillWzI5NCwyMjIsInkiLDFd.JPG successfully.\n",
      "Downloaded enteroviral-hand-053__ProtectWyJQcm90ZWN0Il0_FocusFillWzI5NCwyMjIsInkiLDExMF0.JPG successfully.\n",
      "Downloaded enteroviral-hand-063__ProtectWyJQcm90ZWN0Il0_FocusFillWzI5NCwyMjIsIngiLDE5XQ.JPG successfully.\n",
      "Downloaded enteroviral-hand-060__ProtectWyJQcm90ZWN0Il0_FocusFillWzI5NCwyMjIsInkiLDEwOV0.JPG successfully.\n",
      "Downloaded enteroviral-hand-062__ProtectWyJQcm90ZWN0Il0_FocusFillWzI5NCwyMjIsIngiLDE4XQ.JPG successfully.\n",
      "Downloaded enteroviral-hand-057__ProtectWyJQcm90ZWN0Il0_FocusFillWzI5NCwyMjIsIngiLDFd.JPG successfully.\n",
      "Downloaded enteroviral-hand-054__ProtectWyJQcm90ZWN0Il0_FocusFillWzI5NCwyMjIsInkiLDg1XQ.JPG successfully.\n",
      "Downloaded enteroviral-hand-065__ProtectWyJQcm90ZWN0Il0_FocusFillWzI5NCwyMjIsIngiLDFd.JPG successfully.\n",
      "Downloaded enteroviral-hand-051__ProtectWyJQcm90ZWN0Il0_FocusFillWzI5NCwyMjIsIngiLDFd.JPG successfully.\n",
      "Downloaded enteroviral-hand-064__ProtectWyJQcm90ZWN0Il0_FocusFillWzI5NCwyMjIsIngiLDE5XQ.JPG successfully.\n",
      "Downloaded enteroviral-hand-061__ProtectWyJQcm90ZWN0Il0_FocusFillWzI5NCwyMjIsInkiLDEwOV0.JPG successfully.\n",
      "Downloaded enteroviral-hand-055__ProtectWyJQcm90ZWN0Il0_FocusFillWzI5NCwyMjIsInkiLDEwOV0.JPG successfully.\n",
      "Downloaded enteroviral-hand-072__ProtectWyJQcm90ZWN0Il0_FocusFillWzI5NCwyMjIsIngiLDIwXQ.JPG successfully.\n",
      "Downloaded enteroviral-hand-071__ProtectWyJQcm90ZWN0Il0_FocusFillWzI5NCwyMjIsIngiLDIwXQ.JPG successfully.\n",
      "Downloaded enteroviral-hand-073__ProtectWyJQcm90ZWN0Il0_FocusFillWzI5NCwyMjIsInkiLDYzXQ.JPG successfully.\n",
      "Downloaded enteroviral-hand-074__ProtectWyJQcm90ZWN0Il0_FocusFillWzI5NCwyMjIsIngiLDE5XQ.JPG successfully.\n"
     ]
    }
   ],
   "source": [
    "image_folder = \"/home/zty/project/disease/handImages/\"\n",
    "\n",
    "# 遍历所有图片URL\n",
    "for image_url in full_src_list:\n",
    "    # 从URL中提取图片文件名\n",
    "    image_name = image_url.split(\"/\")[-1]   \n",
    "    # 拼接完整的文件路径\n",
    "    image_path = image_folder + image_name\n",
    "    # 向服务器发送请求并获取响应对象\n",
    "    response = requests.get(image_url)  \n",
    "    # 判断响应状态码是否为200（成功）\n",
    "    if response.status_code == 200:\n",
    "    # 打开一个新文件并写入二进制内容\n",
    "        with open(image_path, \"wb\") as f:\n",
    "            f.write(response.content)\n",
    "    # 打印成功信息\n",
    "    print(f\"Downloaded {image_name} successfully.\")\n",
    "\n"
   ]
  },
  {
   "cell_type": "code",
   "execution_count": 15,
   "metadata": {},
   "outputs": [
    {
     "name": "stdout",
     "output_type": "stream",
     "text": [
      "37\n"
     ]
    }
   ],
   "source": [
    "\n",
    "print(len(full_src_list))"
   ]
  },
  {
   "cell_type": "code",
   "execution_count": null,
   "metadata": {},
   "outputs": [],
   "source": []
  }
 ],
 "metadata": {
  "kernelspec": {
   "display_name": "Python 3",
   "language": "python",
   "name": "python3"
  },
  "language_info": {
   "codemirror_mode": {
    "name": "ipython",
    "version": 3
   },
   "file_extension": ".py",
   "mimetype": "text/x-python",
   "name": "python",
   "nbconvert_exporter": "python",
   "pygments_lexer": "ipython3",
   "version": "3.6.15"
  },
  "orig_nbformat": 4
 },
 "nbformat": 4,
 "nbformat_minor": 2
}
